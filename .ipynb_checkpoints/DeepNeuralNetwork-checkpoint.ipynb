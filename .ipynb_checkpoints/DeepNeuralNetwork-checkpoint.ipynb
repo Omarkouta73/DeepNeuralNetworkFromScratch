{
 "cells": [
  {
   "cell_type": "code",
   "execution_count": 1,
   "id": "d7f9ebba-cccb-4100-b56a-9fbff2427503",
   "metadata": {},
   "outputs": [],
   "source": [
    "import torch\n",
    "import numpy as np\n",
    "import pandas as pd\n",
    "from pandas.api.types import is_string_dtype\n",
    "from pandas.api.types import is_numeric_dtype\n",
    "from pandas.api.types import is_numeric_dtype\n",
    "import matplotlib.pyplot as plt\n",
    "import seaborn as sns\n",
    "import warnings\n",
    "\n",
    "warnings.filterwarnings('ignore')"
   ]
  },
  {
   "cell_type": "code",
   "execution_count": 2,
   "id": "a60130a4-2b5e-43b8-aa6e-083b8c88706a",
   "metadata": {},
   "outputs": [
    {
     "data": {
      "text/html": [
       "<div>\n",
       "<style scoped>\n",
       "    .dataframe tbody tr th:only-of-type {\n",
       "        vertical-align: middle;\n",
       "    }\n",
       "\n",
       "    .dataframe tbody tr th {\n",
       "        vertical-align: top;\n",
       "    }\n",
       "\n",
       "    .dataframe thead th {\n",
       "        text-align: right;\n",
       "    }\n",
       "</style>\n",
       "<table border=\"1\" class=\"dataframe\">\n",
       "  <thead>\n",
       "    <tr style=\"text-align: right;\">\n",
       "      <th></th>\n",
       "      <th>PassengerId</th>\n",
       "      <th>Survived</th>\n",
       "      <th>Pclass</th>\n",
       "      <th>Name</th>\n",
       "      <th>Sex</th>\n",
       "      <th>Age</th>\n",
       "      <th>SibSp</th>\n",
       "      <th>Parch</th>\n",
       "      <th>Ticket</th>\n",
       "      <th>Fare</th>\n",
       "      <th>Cabin</th>\n",
       "      <th>Embarked</th>\n",
       "    </tr>\n",
       "  </thead>\n",
       "  <tbody>\n",
       "    <tr>\n",
       "      <th>0</th>\n",
       "      <td>1</td>\n",
       "      <td>0</td>\n",
       "      <td>3</td>\n",
       "      <td>Braund, Mr. Owen Harris</td>\n",
       "      <td>male</td>\n",
       "      <td>22.0</td>\n",
       "      <td>1</td>\n",
       "      <td>0</td>\n",
       "      <td>A/5 21171</td>\n",
       "      <td>7.2500</td>\n",
       "      <td>NaN</td>\n",
       "      <td>S</td>\n",
       "    </tr>\n",
       "    <tr>\n",
       "      <th>1</th>\n",
       "      <td>2</td>\n",
       "      <td>1</td>\n",
       "      <td>1</td>\n",
       "      <td>Cumings, Mrs. John Bradley (Florence Briggs Th...</td>\n",
       "      <td>female</td>\n",
       "      <td>38.0</td>\n",
       "      <td>1</td>\n",
       "      <td>0</td>\n",
       "      <td>PC 17599</td>\n",
       "      <td>71.2833</td>\n",
       "      <td>C85</td>\n",
       "      <td>C</td>\n",
       "    </tr>\n",
       "    <tr>\n",
       "      <th>2</th>\n",
       "      <td>3</td>\n",
       "      <td>1</td>\n",
       "      <td>3</td>\n",
       "      <td>Heikkinen, Miss. Laina</td>\n",
       "      <td>female</td>\n",
       "      <td>26.0</td>\n",
       "      <td>0</td>\n",
       "      <td>0</td>\n",
       "      <td>STON/O2. 3101282</td>\n",
       "      <td>7.9250</td>\n",
       "      <td>NaN</td>\n",
       "      <td>S</td>\n",
       "    </tr>\n",
       "    <tr>\n",
       "      <th>3</th>\n",
       "      <td>4</td>\n",
       "      <td>1</td>\n",
       "      <td>1</td>\n",
       "      <td>Futrelle, Mrs. Jacques Heath (Lily May Peel)</td>\n",
       "      <td>female</td>\n",
       "      <td>35.0</td>\n",
       "      <td>1</td>\n",
       "      <td>0</td>\n",
       "      <td>113803</td>\n",
       "      <td>53.1000</td>\n",
       "      <td>C123</td>\n",
       "      <td>S</td>\n",
       "    </tr>\n",
       "    <tr>\n",
       "      <th>4</th>\n",
       "      <td>5</td>\n",
       "      <td>0</td>\n",
       "      <td>3</td>\n",
       "      <td>Allen, Mr. William Henry</td>\n",
       "      <td>male</td>\n",
       "      <td>35.0</td>\n",
       "      <td>0</td>\n",
       "      <td>0</td>\n",
       "      <td>373450</td>\n",
       "      <td>8.0500</td>\n",
       "      <td>NaN</td>\n",
       "      <td>S</td>\n",
       "    </tr>\n",
       "  </tbody>\n",
       "</table>\n",
       "</div>"
      ],
      "text/plain": [
       "   PassengerId  Survived  Pclass  \\\n",
       "0            1         0       3   \n",
       "1            2         1       1   \n",
       "2            3         1       3   \n",
       "3            4         1       1   \n",
       "4            5         0       3   \n",
       "\n",
       "                                                Name     Sex   Age  SibSp  \\\n",
       "0                            Braund, Mr. Owen Harris    male  22.0      1   \n",
       "1  Cumings, Mrs. John Bradley (Florence Briggs Th...  female  38.0      1   \n",
       "2                             Heikkinen, Miss. Laina  female  26.0      0   \n",
       "3       Futrelle, Mrs. Jacques Heath (Lily May Peel)  female  35.0      1   \n",
       "4                           Allen, Mr. William Henry    male  35.0      0   \n",
       "\n",
       "   Parch            Ticket     Fare Cabin Embarked  \n",
       "0      0         A/5 21171   7.2500   NaN        S  \n",
       "1      0          PC 17599  71.2833   C85        C  \n",
       "2      0  STON/O2. 3101282   7.9250   NaN        S  \n",
       "3      0            113803  53.1000  C123        S  \n",
       "4      0            373450   8.0500   NaN        S  "
      ]
     },
     "execution_count": 2,
     "metadata": {},
     "output_type": "execute_result"
    }
   ],
   "source": [
    "df = pd.read_csv(\"train.csv\")\n",
    "df.head()"
   ]
  },
  {
   "cell_type": "code",
   "execution_count": 3,
   "id": "83745f3d-1de1-4872-8aec-7adc5121792e",
   "metadata": {},
   "outputs": [],
   "source": [
    "np.random.seed(442)\n",
    "torch.manual_seed(442)\n",
    "torch.cuda.manual_seed(442)\n",
    "torch.cuda.manual_seed_all(442)"
   ]
  },
  {
   "cell_type": "markdown",
   "id": "cee644af-6930-4d7e-9c79-c6927dafbb34",
   "metadata": {},
   "source": [
    "# Feature Engineering / Data Cleaning"
   ]
  },
  {
   "cell_type": "code",
   "execution_count": 4,
   "id": "48462b74-c21f-4d5f-b0fc-7771978488d9",
   "metadata": {},
   "outputs": [],
   "source": [
    "df.fillna(df.mode().iloc[0], inplace=True)\n",
    "df.Pclass = df.Pclass.astype('str')\n",
    "df['LogFare'] = np.log(df['Fare']+1)\n",
    "temp = pd.get_dummies(df[[\"Sex\",\"Pclass\",\"Embarked\"]]).astype(int)\n",
    "df = pd.concat([df, temp], axis=1)\n",
    "y = torch.tensor(df.Survived)\n",
    "added_cols = ['Sex_male', 'Sex_female', 'Pclass_1', 'Pclass_2', 'Pclass_3', 'Embarked_C', 'Embarked_Q', 'Embarked_S']\n",
    "indep_cols = ['Age', 'SibSp', 'Parch', 'LogFare'] + added_cols\n",
    "X = torch.tensor(df[indep_cols].values, dtype=torch.float64)\n",
    "vals, index = X.max(dim=0)\n",
    "X = X / vals"
   ]
  },
  {
   "cell_type": "markdown",
   "id": "9883bf37-432e-475e-a837-b6d4c885e217",
   "metadata": {},
   "source": [
    "# Split the data"
   ]
  },
  {
   "cell_type": "code",
   "execution_count": 5,
   "id": "36afbfea-9685-480d-8870-1f9f3c8c182d",
   "metadata": {},
   "outputs": [],
   "source": [
    "from sklearn.model_selection import train_test_split\n",
    "\n",
    "X_train, X_test, y_train, y_test = train_test_split(X, y, test_size=0.3, random_state=42)"
   ]
  },
  {
   "cell_type": "markdown",
   "id": "a612dd93-a996-4761-b94b-3667581a5f53",
   "metadata": {},
   "source": [
    "# Create NN from scratch"
   ]
  },
  {
   "attachments": {
    "60c1548e-1e65-4f29-870e-ed230e0bb68e.webp": {
     "image/webp": "[encoded data removed]"
    }
   },
   "cell_type": "markdown",
   "id": "001c5da2-636a-4c1a-9664-7b6d00baf89c",
   "metadata": {},
   "source": [
    "![Two-or-more-hidden-layers-comprise-a-Deep-Neural-Network.webp](attachment:60c1548e-1e65-4f29-870e-ed230e0bb68e.webp)"
   ]
  },
  {
   "cell_type": "code",
   "execution_count": 6,
   "id": "212f8960-707a-48ff-b5c9-3e5609aa47f1",
   "metadata": {},
   "outputs": [],
   "source": [
    "import torch.nn.functional as F\n",
    "\n",
    "def init_coe(n1, n2):\n",
    "    hiddens = [n1, n2]  # <-- set this to the size of each hidden layer you want\n",
    "    sizes = [X_train.shape[1]] + hiddens + [1] # example: input layer: 12 (No. features) -> hidden layer1: n1 -> hidden layer2: n2 -> output layer: 1\n",
    "    n = len(sizes)\n",
    "    \n",
    "    layers = []\n",
    "    for i in range(n-1): # initialize random weights for each layer\n",
    "        layers.append((torch.rand(sizes[i], sizes[i+1]) - 0.3) / sizes[i+1]*4)\n",
    "\n",
    "    consts = []\n",
    "    for i in range(n-1): # initialize random weights for the biases\n",
    "        consts.append(torch.rand(1)[0] - 0.5)\n",
    "    for l in layers+consts: l.requires_grad_() # make every layer's weights differentiable (able to calculate gradients)\n",
    "    return layers,consts\n",
    "    \n",
    "y_train = y_train[:, None]\n",
    "y_test = y_test[:, None]\n",
    "\n",
    "def predict(w, x):\n",
    "    layers, consts = w\n",
    "    res = x.to(torch.float32)\n",
    "    for i, layer in enumerate(layers):\n",
    "        res = res@layer + consts[i]\n",
    "        if i != (len(layers) - 1): res = F.relu(res)\n",
    "    return torch.sigmoid(res)\n",
    "\n",
    "def update_weights(w, lr):\n",
    "    layers, consts = w\n",
    "    for layer in layers+consts:\n",
    "        layer -= (layer.grad * lr)\n",
    "        layer.grad.zero_()\n",
    "\n",
    "\n",
    "def mae(pre, acts): return (torch.abs(pre - acts)).mean()\n",
    "    \n",
    "def one_epoch(coe, lr):\n",
    "    loss = mae(predict(coe, X_train), y_train)\n",
    "    loss.backward()\n",
    "    with torch.no_grad():\n",
    "        update_weights(coe, lr)\n",
    "    #print(loss)"
   ]
  },
  {
   "cell_type": "code",
   "execution_count": 7,
   "id": "873bfabe-0842-42bc-90e8-e93895042e1a",
   "metadata": {},
   "outputs": [],
   "source": [
    "def train(epoch=100, n_hidden1=10, n_hidden2=10, lr=0.1):\n",
    "    # y = mx + b\n",
    "    coe = init_coe(n_hidden1, n_hidden2)\n",
    "    for i in range(epoch):\n",
    "        one_epoch(coe, lr)\n",
    "    loss = mae(predict(coe, X_train), y_train)\n",
    "    print(loss)\n",
    "    return coe"
   ]
  },
  {
   "cell_type": "code",
   "execution_count": 8,
   "id": "ef1891b8-584b-4b50-a46a-862a3c6b4df3",
   "metadata": {},
   "outputs": [
    {
     "name": "stdout",
     "output_type": "stream",
     "text": [
      "tensor(0.1835, grad_fn=<MeanBackward0>)\n"
     ]
    }
   ],
   "source": [
    "coe = train(1000, lr=0.2)"
   ]
  },
  {
   "cell_type": "code",
   "execution_count": null,
   "id": "7e837a76-1712-41ad-acf3-cb1bc10f3207",
   "metadata": {},
   "outputs": [],
   "source": []
  }
 ],
 "metadata": {
  "kernelspec": {
   "display_name": "Python 3 (ipykernel)",
   "language": "python",
   "name": "python3"
  },
  "language_info": {
   "codemirror_mode": {
    "name": "ipython",
    "version": 3
   },
   "file_extension": ".py",
   "mimetype": "text/x-python",
   "name": "python",
   "nbconvert_exporter": "python",
   "pygments_lexer": "ipython3",
   "version": "3.11.7"
  }
 },
 "nbformat": 4,
 "nbformat_minor": 5
}
